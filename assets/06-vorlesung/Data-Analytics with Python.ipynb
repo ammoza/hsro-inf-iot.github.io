{
  "cells": [
    {
      "metadata": {
        "trusted": true
      },
      "cell_type": "code",
      "source": "#Import Python Libraries\nimport numpy as np\nimport scipy as sp\nimport pandas as pd\nimport matplotlib as mpl\nimport seaborn as sns\n",
      "execution_count": 1,
      "outputs": []
    },
    {
      "metadata": {
        "trusted": true
      },
      "cell_type": "code",
      "source": "#Read csv file\ndf = pd.read_csv(\"http://rcs.bu.edu/examples/python/data_analysis/Salaries.csv\")\n",
      "execution_count": 2,
      "outputs": []
    },
    {
      "metadata": {},
      "cell_type": "markdown",
      "source": "There is a number of pandas commands to read other data formats:\n\n```\npd.read_excel('myfile.xlsx',sheet_name='Sheet1', index_col=None, na_values=['NA'])\npd.read_stata('myfile.dta')\npd.read_sas('myfile.sas7bdat')\npd.read_hdf('myfile.h5','df')\n```"
    },
    {
      "metadata": {
        "trusted": true
      },
      "cell_type": "code",
      "source": "#List first 5 records\ndf.head(10)\n",
      "execution_count": 4,
      "outputs": [
        {
          "output_type": "execute_result",
          "execution_count": 4,
          "data": {
            "text/html": "<div>\n<style scoped>\n    .dataframe tbody tr th:only-of-type {\n        vertical-align: middle;\n    }\n\n    .dataframe tbody tr th {\n        vertical-align: top;\n    }\n\n    .dataframe thead th {\n        text-align: right;\n    }\n</style>\n<table border=\"1\" class=\"dataframe\">\n  <thead>\n    <tr style=\"text-align: right;\">\n      <th></th>\n      <th>rank</th>\n      <th>discipline</th>\n      <th>phd</th>\n      <th>service</th>\n      <th>sex</th>\n      <th>salary</th>\n    </tr>\n  </thead>\n  <tbody>\n    <tr>\n      <th>0</th>\n      <td>Prof</td>\n      <td>B</td>\n      <td>56</td>\n      <td>49</td>\n      <td>Male</td>\n      <td>186960</td>\n    </tr>\n    <tr>\n      <th>1</th>\n      <td>Prof</td>\n      <td>A</td>\n      <td>12</td>\n      <td>6</td>\n      <td>Male</td>\n      <td>93000</td>\n    </tr>\n    <tr>\n      <th>2</th>\n      <td>Prof</td>\n      <td>A</td>\n      <td>23</td>\n      <td>20</td>\n      <td>Male</td>\n      <td>110515</td>\n    </tr>\n    <tr>\n      <th>3</th>\n      <td>Prof</td>\n      <td>A</td>\n      <td>40</td>\n      <td>31</td>\n      <td>Male</td>\n      <td>131205</td>\n    </tr>\n    <tr>\n      <th>4</th>\n      <td>Prof</td>\n      <td>B</td>\n      <td>20</td>\n      <td>18</td>\n      <td>Male</td>\n      <td>104800</td>\n    </tr>\n    <tr>\n      <th>5</th>\n      <td>Prof</td>\n      <td>A</td>\n      <td>20</td>\n      <td>20</td>\n      <td>Male</td>\n      <td>122400</td>\n    </tr>\n    <tr>\n      <th>6</th>\n      <td>AssocProf</td>\n      <td>A</td>\n      <td>20</td>\n      <td>17</td>\n      <td>Male</td>\n      <td>81285</td>\n    </tr>\n    <tr>\n      <th>7</th>\n      <td>Prof</td>\n      <td>A</td>\n      <td>18</td>\n      <td>18</td>\n      <td>Male</td>\n      <td>126300</td>\n    </tr>\n    <tr>\n      <th>8</th>\n      <td>Prof</td>\n      <td>A</td>\n      <td>29</td>\n      <td>19</td>\n      <td>Male</td>\n      <td>94350</td>\n    </tr>\n    <tr>\n      <th>9</th>\n      <td>Prof</td>\n      <td>A</td>\n      <td>51</td>\n      <td>51</td>\n      <td>Male</td>\n      <td>57800</td>\n    </tr>\n  </tbody>\n</table>\n</div>",
            "text/plain": "        rank discipline  phd  service   sex  salary\n0       Prof          B   56       49  Male  186960\n1       Prof          A   12        6  Male   93000\n2       Prof          A   23       20  Male  110515\n3       Prof          A   40       31  Male  131205\n4       Prof          B   20       18  Male  104800\n5       Prof          A   20       20  Male  122400\n6  AssocProf          A   20       17  Male   81285\n7       Prof          A   18       18  Male  126300\n8       Prof          A   29       19  Male   94350\n9       Prof          A   51       51  Male   57800"
          },
          "metadata": {}
        }
      ]
    },
    {
      "metadata": {
        "trusted": true
      },
      "cell_type": "code",
      "source": "df.tail()",
      "execution_count": 5,
      "outputs": [
        {
          "output_type": "execute_result",
          "execution_count": 5,
          "data": {
            "text/html": "<div>\n<style scoped>\n    .dataframe tbody tr th:only-of-type {\n        vertical-align: middle;\n    }\n\n    .dataframe tbody tr th {\n        vertical-align: top;\n    }\n\n    .dataframe thead th {\n        text-align: right;\n    }\n</style>\n<table border=\"1\" class=\"dataframe\">\n  <thead>\n    <tr style=\"text-align: right;\">\n      <th></th>\n      <th>rank</th>\n      <th>discipline</th>\n      <th>phd</th>\n      <th>service</th>\n      <th>sex</th>\n      <th>salary</th>\n    </tr>\n  </thead>\n  <tbody>\n    <tr>\n      <th>73</th>\n      <td>Prof</td>\n      <td>B</td>\n      <td>18</td>\n      <td>10</td>\n      <td>Female</td>\n      <td>105450</td>\n    </tr>\n    <tr>\n      <th>74</th>\n      <td>AssocProf</td>\n      <td>B</td>\n      <td>19</td>\n      <td>6</td>\n      <td>Female</td>\n      <td>104542</td>\n    </tr>\n    <tr>\n      <th>75</th>\n      <td>Prof</td>\n      <td>B</td>\n      <td>17</td>\n      <td>17</td>\n      <td>Female</td>\n      <td>124312</td>\n    </tr>\n    <tr>\n      <th>76</th>\n      <td>Prof</td>\n      <td>A</td>\n      <td>28</td>\n      <td>14</td>\n      <td>Female</td>\n      <td>109954</td>\n    </tr>\n    <tr>\n      <th>77</th>\n      <td>Prof</td>\n      <td>A</td>\n      <td>23</td>\n      <td>15</td>\n      <td>Female</td>\n      <td>109646</td>\n    </tr>\n  </tbody>\n</table>\n</div>",
            "text/plain": "         rank discipline  phd  service     sex  salary\n73       Prof          B   18       10  Female  105450\n74  AssocProf          B   19        6  Female  104542\n75       Prof          B   17       17  Female  124312\n76       Prof          A   28       14  Female  109954\n77       Prof          A   23       15  Female  109646"
          },
          "metadata": {}
        }
      ]
    },
    {
      "metadata": {
        "trusted": true
      },
      "cell_type": "code",
      "source": "#Check a particular column type\ndf['salary'].dtype\n",
      "execution_count": 6,
      "outputs": [
        {
          "output_type": "execute_result",
          "execution_count": 6,
          "data": {
            "text/plain": "dtype('int64')"
          },
          "metadata": {}
        }
      ]
    },
    {
      "metadata": {
        "trusted": true
      },
      "cell_type": "code",
      "source": "#Check types for all the columns\ndf.dtypes\n",
      "execution_count": 7,
      "outputs": [
        {
          "output_type": "execute_result",
          "execution_count": 7,
          "data": {
            "text/plain": "rank          object\ndiscipline    object\nphd            int64\nservice        int64\nsex           object\nsalary         int64\ndtype: object"
          },
          "metadata": {}
        }
      ]
    },
    {
      "metadata": {
        "trusted": true
      },
      "cell_type": "code",
      "source": "dir(df)",
      "execution_count": 8,
      "outputs": [
        {
          "output_type": "execute_result",
          "execution_count": 8,
          "data": {
            "text/plain": "['T',\n '_AXIS_ALIASES',\n '_AXIS_IALIASES',\n '_AXIS_LEN',\n '_AXIS_NAMES',\n '_AXIS_NUMBERS',\n '_AXIS_ORDERS',\n '_AXIS_REVERSED',\n '_AXIS_SLICEMAP',\n '__abs__',\n '__add__',\n '__and__',\n '__array__',\n '__array_wrap__',\n '__bool__',\n '__bytes__',\n '__class__',\n '__contains__',\n '__copy__',\n '__deepcopy__',\n '__delattr__',\n '__delitem__',\n '__dict__',\n '__dir__',\n '__div__',\n '__doc__',\n '__eq__',\n '__finalize__',\n '__floordiv__',\n '__format__',\n '__ge__',\n '__getattr__',\n '__getattribute__',\n '__getitem__',\n '__getstate__',\n '__gt__',\n '__hash__',\n '__iadd__',\n '__iand__',\n '__ifloordiv__',\n '__imod__',\n '__imul__',\n '__init__',\n '__init_subclass__',\n '__invert__',\n '__ior__',\n '__ipow__',\n '__isub__',\n '__iter__',\n '__itruediv__',\n '__ixor__',\n '__le__',\n '__len__',\n '__lt__',\n '__matmul__',\n '__mod__',\n '__module__',\n '__mul__',\n '__ne__',\n '__neg__',\n '__new__',\n '__nonzero__',\n '__or__',\n '__pos__',\n '__pow__',\n '__radd__',\n '__rand__',\n '__rdiv__',\n '__reduce__',\n '__reduce_ex__',\n '__repr__',\n '__rfloordiv__',\n '__rmatmul__',\n '__rmod__',\n '__rmul__',\n '__ror__',\n '__round__',\n '__rpow__',\n '__rsub__',\n '__rtruediv__',\n '__rxor__',\n '__setattr__',\n '__setitem__',\n '__setstate__',\n '__sizeof__',\n '__str__',\n '__sub__',\n '__subclasshook__',\n '__truediv__',\n '__unicode__',\n '__weakref__',\n '__xor__',\n '_accessors',\n '_add_numeric_operations',\n '_add_series_only_operations',\n '_add_series_or_dataframe_operations',\n '_agg_by_level',\n '_agg_doc',\n '_aggregate',\n '_aggregate_multiple_funcs',\n '_align_frame',\n '_align_series',\n '_box_col_values',\n '_box_item_values',\n '_builtin_table',\n '_check_inplace_setting',\n '_check_is_chained_assignment_possible',\n '_check_label_or_level_ambiguity',\n '_check_percentile',\n '_check_setitem_copy',\n '_clear_item_cache',\n '_clip_with_one_bound',\n '_clip_with_scalar',\n '_combine_const',\n '_combine_frame',\n '_combine_match_columns',\n '_combine_match_index',\n '_compare_frame',\n '_consolidate',\n '_consolidate_inplace',\n '_construct_axes_dict',\n '_construct_axes_dict_for_slice',\n '_construct_axes_dict_from',\n '_construct_axes_from_arguments',\n '_constructor',\n '_constructor_expanddim',\n '_constructor_sliced',\n '_convert',\n '_count_level',\n '_create_indexer',\n '_cython_table',\n '_deprecations',\n '_dir_additions',\n '_dir_deletions',\n '_drop_axis',\n '_drop_labels_or_levels',\n '_ensure_valid_index',\n '_expand_axes',\n '_find_valid_index',\n '_from_arrays',\n '_from_axes',\n '_get_agg_axis',\n '_get_axis',\n '_get_axis_name',\n '_get_axis_number',\n '_get_axis_resolvers',\n '_get_block_manager_axis',\n '_get_bool_data',\n '_get_cacher',\n '_get_index_resolvers',\n '_get_item_cache',\n '_get_label_or_level_values',\n '_get_numeric_data',\n '_get_value',\n '_get_values',\n '_getitem_array',\n '_getitem_column',\n '_getitem_frame',\n '_getitem_multilevel',\n '_getitem_slice',\n '_gotitem',\n '_iget_item_cache',\n '_indexed_same',\n '_info_axis',\n '_info_axis_name',\n '_info_axis_number',\n '_info_repr',\n '_init_dict',\n '_init_mgr',\n '_init_ndarray',\n '_internal_names',\n '_internal_names_set',\n '_is_builtin_func',\n '_is_cached',\n '_is_copy',\n '_is_cython_func',\n '_is_datelike_mixed_type',\n '_is_label_or_level_reference',\n '_is_label_reference',\n '_is_level_reference',\n '_is_mixed_type',\n '_is_numeric_mixed_type',\n '_is_view',\n '_ix',\n '_ixs',\n '_join_compat',\n '_maybe_cache_changed',\n '_maybe_update_cacher',\n '_metadata',\n '_needs_reindex_multi',\n '_obj_with_exclusions',\n '_protect_consolidate',\n '_reduce',\n '_reindex_axes',\n '_reindex_axis',\n '_reindex_columns',\n '_reindex_index',\n '_reindex_multi',\n '_reindex_with_indexers',\n '_repr_data_resource_',\n '_repr_fits_horizontal_',\n '_repr_fits_vertical_',\n '_repr_html_',\n '_repr_latex_',\n '_reset_cache',\n '_reset_cacher',\n '_sanitize_column',\n '_selected_obj',\n '_selection',\n '_selection_list',\n '_selection_name',\n '_series',\n '_set_as_cached',\n '_set_axis',\n '_set_axis_name',\n '_set_is_copy',\n '_set_item',\n '_set_value',\n '_setitem_array',\n '_setitem_frame',\n '_setitem_slice',\n '_setup_axes',\n '_shallow_copy',\n '_slice',\n '_stat_axis',\n '_stat_axis_name',\n '_stat_axis_number',\n '_take',\n '_to_dict_of_blocks',\n '_try_aggregate_string_function',\n '_typ',\n '_unpickle_frame_compat',\n '_unpickle_matrix_compat',\n '_update_inplace',\n '_validate_dtype',\n '_values',\n '_where',\n '_xs',\n 'abs',\n 'add',\n 'add_prefix',\n 'add_suffix',\n 'agg',\n 'aggregate',\n 'align',\n 'all',\n 'any',\n 'append',\n 'apply',\n 'applymap',\n 'as_matrix',\n 'asfreq',\n 'asof',\n 'assign',\n 'astype',\n 'at',\n 'at_time',\n 'axes',\n 'between_time',\n 'bfill',\n 'bool',\n 'boxplot',\n 'clip',\n 'clip_lower',\n 'clip_upper',\n 'columns',\n 'combine',\n 'combine_first',\n 'compound',\n 'copy',\n 'corr',\n 'corrwith',\n 'count',\n 'cov',\n 'cummax',\n 'cummin',\n 'cumprod',\n 'cumsum',\n 'describe',\n 'diff',\n 'discipline',\n 'div',\n 'divide',\n 'dot',\n 'drop',\n 'drop_duplicates',\n 'dropna',\n 'dtypes',\n 'duplicated',\n 'empty',\n 'eq',\n 'equals',\n 'eval',\n 'ewm',\n 'expanding',\n 'ffill',\n 'fillna',\n 'filter',\n 'first',\n 'first_valid_index',\n 'floordiv',\n 'from_dict',\n 'from_records',\n 'ftypes',\n 'ge',\n 'get',\n 'get_dtype_counts',\n 'get_ftype_counts',\n 'get_values',\n 'groupby',\n 'gt',\n 'head',\n 'hist',\n 'iat',\n 'idxmax',\n 'idxmin',\n 'iloc',\n 'index',\n 'infer_objects',\n 'info',\n 'insert',\n 'interpolate',\n 'isin',\n 'isna',\n 'isnull',\n 'items',\n 'iteritems',\n 'iterrows',\n 'itertuples',\n 'ix',\n 'join',\n 'keys',\n 'kurt',\n 'kurtosis',\n 'last',\n 'last_valid_index',\n 'le',\n 'loc',\n 'lookup',\n 'lt',\n 'mad',\n 'mask',\n 'max',\n 'mean',\n 'median',\n 'melt',\n 'memory_usage',\n 'merge',\n 'min',\n 'mod',\n 'mode',\n 'mul',\n 'multiply',\n 'ndim',\n 'ne',\n 'nlargest',\n 'notna',\n 'notnull',\n 'nsmallest',\n 'nunique',\n 'pct_change',\n 'phd',\n 'pipe',\n 'pivot',\n 'pivot_table',\n 'plot',\n 'pop',\n 'pow',\n 'prod',\n 'product',\n 'quantile',\n 'query',\n 'radd',\n 'rank',\n 'rdiv',\n 'reindex',\n 'reindex_axis',\n 'reindex_like',\n 'rename',\n 'rename_axis',\n 'reorder_levels',\n 'replace',\n 'resample',\n 'reset_index',\n 'rfloordiv',\n 'rmod',\n 'rmul',\n 'rolling',\n 'round',\n 'rpow',\n 'rsub',\n 'rtruediv',\n 'salary',\n 'sample',\n 'select',\n 'select_dtypes',\n 'sem',\n 'service',\n 'set_axis',\n 'set_index',\n 'sex',\n 'shape',\n 'shift',\n 'size',\n 'skew',\n 'slice_shift',\n 'sort_index',\n 'sort_values',\n 'squeeze',\n 'stack',\n 'std',\n 'style',\n 'sub',\n 'subtract',\n 'sum',\n 'swapaxes',\n 'swaplevel',\n 'tail',\n 'take',\n 'to_clipboard',\n 'to_csv',\n 'to_dense',\n 'to_dict',\n 'to_excel',\n 'to_feather',\n 'to_gbq',\n 'to_hdf',\n 'to_html',\n 'to_json',\n 'to_latex',\n 'to_msgpack',\n 'to_panel',\n 'to_parquet',\n 'to_period',\n 'to_pickle',\n 'to_records',\n 'to_sparse',\n 'to_sql',\n 'to_stata',\n 'to_string',\n 'to_timestamp',\n 'to_xarray',\n 'transform',\n 'transpose',\n 'truediv',\n 'truncate',\n 'tshift',\n 'tz_convert',\n 'tz_localize',\n 'unstack',\n 'update',\n 'values',\n 'var',\n 'where',\n 'xs']"
          },
          "metadata": {}
        }
      ]
    },
    {
      "metadata": {},
      "cell_type": "markdown",
      "source": "###  Selecting a column in a Data Frame",
      "attachments": {}
    },
    {
      "metadata": {
        "trusted": true
      },
      "cell_type": "code",
      "source": "df['sex']",
      "execution_count": 10,
      "outputs": [
        {
          "output_type": "execute_result",
          "execution_count": 10,
          "data": {
            "text/plain": "0       Male\n1       Male\n2       Male\n3       Male\n4       Male\n5       Male\n6       Male\n7       Male\n8       Male\n9       Male\n10      Male\n11      Male\n12      Male\n13      Male\n14      Male\n15      Male\n16      Male\n17      Male\n18      Male\n19      Male\n20      Male\n21      Male\n22      Male\n23      Male\n24      Male\n25      Male\n26      Male\n27      Male\n28      Male\n29      Male\n       ...  \n48    Female\n49    Female\n50    Female\n51    Female\n52    Female\n53    Female\n54    Female\n55    Female\n56    Female\n57    Female\n58    Female\n59    Female\n60    Female\n61    Female\n62    Female\n63    Female\n64    Female\n65    Female\n66    Female\n67    Female\n68    Female\n69    Female\n70    Female\n71    Female\n72    Female\n73    Female\n74    Female\n75    Female\n76    Female\n77    Female\nName: sex, Length: 78, dtype: object"
          },
          "metadata": {}
        }
      ]
    },
    {
      "metadata": {
        "trusted": true
      },
      "cell_type": "code",
      "source": "df.sex",
      "execution_count": 9,
      "outputs": [
        {
          "output_type": "execute_result",
          "execution_count": 9,
          "data": {
            "text/plain": "0       Male\n1       Male\n2       Male\n3       Male\n4       Male\n5       Male\n6       Male\n7       Male\n8       Male\n9       Male\n10      Male\n11      Male\n12      Male\n13      Male\n14      Male\n15      Male\n16      Male\n17      Male\n18      Male\n19      Male\n20      Male\n21      Male\n22      Male\n23      Male\n24      Male\n25      Male\n26      Male\n27      Male\n28      Male\n29      Male\n       ...  \n48    Female\n49    Female\n50    Female\n51    Female\n52    Female\n53    Female\n54    Female\n55    Female\n56    Female\n57    Female\n58    Female\n59    Female\n60    Female\n61    Female\n62    Female\n63    Female\n64    Female\n65    Female\n66    Female\n67    Female\n68    Female\n69    Female\n70    Female\n71    Female\n72    Female\n73    Female\n74    Female\n75    Female\n76    Female\n77    Female\nName: sex, Length: 78, dtype: object"
          },
          "metadata": {}
        }
      ]
    },
    {
      "metadata": {},
      "cell_type": "markdown",
      "source": "### Calculate the basic statistics for the salary column"
    },
    {
      "metadata": {
        "trusted": true
      },
      "cell_type": "code",
      "source": "print(df.salary.mean())\nprint(df.salary.count())",
      "execution_count": 15,
      "outputs": [
        {
          "output_type": "stream",
          "text": "108023.78205128205\n78\n",
          "name": "stdout"
        }
      ]
    },
    {
      "metadata": {},
      "cell_type": "markdown",
      "source": "### Data Frames groupby method"
    },
    {
      "metadata": {
        "trusted": true
      },
      "cell_type": "code",
      "source": "#Group data using rank\ndf_rank = df.groupby(['rank'])\n",
      "execution_count": 16,
      "outputs": []
    },
    {
      "metadata": {
        "trusted": true
      },
      "cell_type": "code",
      "source": "#Calculate mean value for each numeric column per each group\ndf_rank.mean()\n",
      "execution_count": 17,
      "outputs": [
        {
          "output_type": "execute_result",
          "execution_count": 17,
          "data": {
            "text/html": "<div>\n<style scoped>\n    .dataframe tbody tr th:only-of-type {\n        vertical-align: middle;\n    }\n\n    .dataframe tbody tr th {\n        vertical-align: top;\n    }\n\n    .dataframe thead th {\n        text-align: right;\n    }\n</style>\n<table border=\"1\" class=\"dataframe\">\n  <thead>\n    <tr style=\"text-align: right;\">\n      <th></th>\n      <th>phd</th>\n      <th>service</th>\n      <th>salary</th>\n    </tr>\n    <tr>\n      <th>rank</th>\n      <th></th>\n      <th></th>\n      <th></th>\n    </tr>\n  </thead>\n  <tbody>\n    <tr>\n      <th>AssocProf</th>\n      <td>15.076923</td>\n      <td>11.307692</td>\n      <td>91786.230769</td>\n    </tr>\n    <tr>\n      <th>AsstProf</th>\n      <td>5.052632</td>\n      <td>2.210526</td>\n      <td>81362.789474</td>\n    </tr>\n    <tr>\n      <th>Prof</th>\n      <td>27.065217</td>\n      <td>21.413043</td>\n      <td>123624.804348</td>\n    </tr>\n  </tbody>\n</table>\n</div>",
            "text/plain": "                 phd    service         salary\nrank                                          \nAssocProf  15.076923  11.307692   91786.230769\nAsstProf    5.052632   2.210526   81362.789474\nProf       27.065217  21.413043  123624.804348"
          },
          "metadata": {}
        }
      ]
    },
    {
      "metadata": {
        "trusted": true
      },
      "cell_type": "code",
      "source": "#Calculate mean salary for each professor rank:\ndf.groupby('rank')[['salary']].mean()\n",
      "execution_count": 18,
      "outputs": [
        {
          "output_type": "execute_result",
          "execution_count": 18,
          "data": {
            "text/html": "<div>\n<style scoped>\n    .dataframe tbody tr th:only-of-type {\n        vertical-align: middle;\n    }\n\n    .dataframe tbody tr th {\n        vertical-align: top;\n    }\n\n    .dataframe thead th {\n        text-align: right;\n    }\n</style>\n<table border=\"1\" class=\"dataframe\">\n  <thead>\n    <tr style=\"text-align: right;\">\n      <th></th>\n      <th>salary</th>\n    </tr>\n    <tr>\n      <th>rank</th>\n      <th></th>\n    </tr>\n  </thead>\n  <tbody>\n    <tr>\n      <th>AssocProf</th>\n      <td>91786.230769</td>\n    </tr>\n    <tr>\n      <th>AsstProf</th>\n      <td>81362.789474</td>\n    </tr>\n    <tr>\n      <th>Prof</th>\n      <td>123624.804348</td>\n    </tr>\n  </tbody>\n</table>\n</div>",
            "text/plain": "                  salary\nrank                    \nAssocProf   91786.230769\nAsstProf    81362.789474\nProf       123624.804348"
          },
          "metadata": {}
        }
      ]
    },
    {
      "metadata": {},
      "cell_type": "markdown",
      "source": "Note: If single brackets are used to specify the column (e.g. salary), then the output is Pandas Series object. When double brackets are used the output is a Data Frame\n"
    },
    {
      "metadata": {},
      "cell_type": "markdown",
      "source": "groupby performance notes:\n- no grouping/splitting occurs until it's needed. Creating the groupby object only verifies that you have passed a valid mapping\n- by default the group keys are sorted during the groupby operation. You may want to pass sort=False for potential speedup:\n"
    },
    {
      "metadata": {
        "trusted": true
      },
      "cell_type": "code",
      "source": "#Calculate mean salary for each professor rank:\ndf.groupby(['rank'], sort=False)[['salary']].mean()\n",
      "execution_count": 19,
      "outputs": [
        {
          "output_type": "execute_result",
          "execution_count": 19,
          "data": {
            "text/html": "<div>\n<style scoped>\n    .dataframe tbody tr th:only-of-type {\n        vertical-align: middle;\n    }\n\n    .dataframe tbody tr th {\n        vertical-align: top;\n    }\n\n    .dataframe thead th {\n        text-align: right;\n    }\n</style>\n<table border=\"1\" class=\"dataframe\">\n  <thead>\n    <tr style=\"text-align: right;\">\n      <th></th>\n      <th>salary</th>\n    </tr>\n    <tr>\n      <th>rank</th>\n      <th></th>\n    </tr>\n  </thead>\n  <tbody>\n    <tr>\n      <th>Prof</th>\n      <td>123624.804348</td>\n    </tr>\n    <tr>\n      <th>AssocProf</th>\n      <td>91786.230769</td>\n    </tr>\n    <tr>\n      <th>AsstProf</th>\n      <td>81362.789474</td>\n    </tr>\n  </tbody>\n</table>\n</div>",
            "text/plain": "                  salary\nrank                    \nProf       123624.804348\nAssocProf   91786.230769\nAsstProf    81362.789474"
          },
          "metadata": {}
        }
      ]
    },
    {
      "metadata": {},
      "cell_type": "markdown",
      "source": "### Data Frame filtering"
    },
    {
      "metadata": {
        "trusted": true
      },
      "cell_type": "code",
      "source": "#Calculate mean salary for each professor rank:\ndf_sub = df[ df['salary'] > 120000 ]\n",
      "execution_count": 20,
      "outputs": []
    },
    {
      "metadata": {
        "trusted": true
      },
      "cell_type": "code",
      "source": "#Select only those rows that contain female professors:\ndf_f = df[ df['sex'] == 'Female' ]\n",
      "execution_count": 21,
      "outputs": []
    },
    {
      "metadata": {},
      "cell_type": "markdown",
      "source": "### Data Frame slicing"
    },
    {
      "metadata": {},
      "cell_type": "markdown",
      "source": "When selecting one column, it is possible to use single set of brackets, but the resulting object will be  a Series (not a DataFrame): \n"
    },
    {
      "metadata": {
        "trusted": true
      },
      "cell_type": "code",
      "source": "#Select column salary:\ndf['salary']\n",
      "execution_count": 22,
      "outputs": [
        {
          "output_type": "execute_result",
          "execution_count": 22,
          "data": {
            "text/plain": "0     186960\n1      93000\n2     110515\n3     131205\n4     104800\n5     122400\n6      81285\n7     126300\n8      94350\n9      57800\n10    128250\n11    134778\n12     88000\n13    162200\n14    153750\n15    150480\n16     75044\n17     92000\n18    107300\n19    150500\n20     92000\n21    103106\n22     73000\n23     85000\n24     91100\n25     99418\n26    148750\n27    155865\n28     91300\n29    123683\n       ...  \n48    111512\n49    122960\n50     97032\n51    127512\n52    105000\n53     73500\n54     62884\n55     72500\n56     77500\n57     72500\n58    144651\n59    103994\n60     92000\n61    103750\n62    109650\n63     91000\n64     73300\n65    117555\n66     63100\n67     90450\n68     77500\n69    116450\n70     78500\n71     71065\n72    161101\n73    105450\n74    104542\n75    124312\n76    109954\n77    109646\nName: salary, Length: 78, dtype: int64"
          },
          "metadata": {}
        }
      ]
    },
    {
      "metadata": {},
      "cell_type": "markdown",
      "source": "When we need to select more than one column and/or make the output to be a DataFrame, we should use double brackets:\n"
    },
    {
      "metadata": {
        "trusted": true
      },
      "cell_type": "code",
      "source": "#Select column salary:\ndf[['rank','salary']]\n",
      "execution_count": 23,
      "outputs": [
        {
          "output_type": "execute_result",
          "execution_count": 23,
          "data": {
            "text/html": "<div>\n<style scoped>\n    .dataframe tbody tr th:only-of-type {\n        vertical-align: middle;\n    }\n\n    .dataframe tbody tr th {\n        vertical-align: top;\n    }\n\n    .dataframe thead th {\n        text-align: right;\n    }\n</style>\n<table border=\"1\" class=\"dataframe\">\n  <thead>\n    <tr style=\"text-align: right;\">\n      <th></th>\n      <th>rank</th>\n      <th>salary</th>\n    </tr>\n  </thead>\n  <tbody>\n    <tr>\n      <th>0</th>\n      <td>Prof</td>\n      <td>186960</td>\n    </tr>\n    <tr>\n      <th>1</th>\n      <td>Prof</td>\n      <td>93000</td>\n    </tr>\n    <tr>\n      <th>2</th>\n      <td>Prof</td>\n      <td>110515</td>\n    </tr>\n    <tr>\n      <th>3</th>\n      <td>Prof</td>\n      <td>131205</td>\n    </tr>\n    <tr>\n      <th>4</th>\n      <td>Prof</td>\n      <td>104800</td>\n    </tr>\n    <tr>\n      <th>5</th>\n      <td>Prof</td>\n      <td>122400</td>\n    </tr>\n    <tr>\n      <th>6</th>\n      <td>AssocProf</td>\n      <td>81285</td>\n    </tr>\n    <tr>\n      <th>7</th>\n      <td>Prof</td>\n      <td>126300</td>\n    </tr>\n    <tr>\n      <th>8</th>\n      <td>Prof</td>\n      <td>94350</td>\n    </tr>\n    <tr>\n      <th>9</th>\n      <td>Prof</td>\n      <td>57800</td>\n    </tr>\n    <tr>\n      <th>10</th>\n      <td>Prof</td>\n      <td>128250</td>\n    </tr>\n    <tr>\n      <th>11</th>\n      <td>Prof</td>\n      <td>134778</td>\n    </tr>\n    <tr>\n      <th>12</th>\n      <td>AsstProf</td>\n      <td>88000</td>\n    </tr>\n    <tr>\n      <th>13</th>\n      <td>Prof</td>\n      <td>162200</td>\n    </tr>\n    <tr>\n      <th>14</th>\n      <td>Prof</td>\n      <td>153750</td>\n    </tr>\n    <tr>\n      <th>15</th>\n      <td>Prof</td>\n      <td>150480</td>\n    </tr>\n    <tr>\n      <th>16</th>\n      <td>AsstProf</td>\n      <td>75044</td>\n    </tr>\n    <tr>\n      <th>17</th>\n      <td>AsstProf</td>\n      <td>92000</td>\n    </tr>\n    <tr>\n      <th>18</th>\n      <td>Prof</td>\n      <td>107300</td>\n    </tr>\n    <tr>\n      <th>19</th>\n      <td>Prof</td>\n      <td>150500</td>\n    </tr>\n    <tr>\n      <th>20</th>\n      <td>AsstProf</td>\n      <td>92000</td>\n    </tr>\n    <tr>\n      <th>21</th>\n      <td>Prof</td>\n      <td>103106</td>\n    </tr>\n    <tr>\n      <th>22</th>\n      <td>AsstProf</td>\n      <td>73000</td>\n    </tr>\n    <tr>\n      <th>23</th>\n      <td>AsstProf</td>\n      <td>85000</td>\n    </tr>\n    <tr>\n      <th>24</th>\n      <td>Prof</td>\n      <td>91100</td>\n    </tr>\n    <tr>\n      <th>25</th>\n      <td>Prof</td>\n      <td>99418</td>\n    </tr>\n    <tr>\n      <th>26</th>\n      <td>Prof</td>\n      <td>148750</td>\n    </tr>\n    <tr>\n      <th>27</th>\n      <td>Prof</td>\n      <td>155865</td>\n    </tr>\n    <tr>\n      <th>28</th>\n      <td>AsstProf</td>\n      <td>91300</td>\n    </tr>\n    <tr>\n      <th>29</th>\n      <td>Prof</td>\n      <td>123683</td>\n    </tr>\n    <tr>\n      <th>...</th>\n      <td>...</td>\n      <td>...</td>\n    </tr>\n    <tr>\n      <th>48</th>\n      <td>Prof</td>\n      <td>111512</td>\n    </tr>\n    <tr>\n      <th>49</th>\n      <td>Prof</td>\n      <td>122960</td>\n    </tr>\n    <tr>\n      <th>50</th>\n      <td>AsstProf</td>\n      <td>97032</td>\n    </tr>\n    <tr>\n      <th>51</th>\n      <td>Prof</td>\n      <td>127512</td>\n    </tr>\n    <tr>\n      <th>52</th>\n      <td>Prof</td>\n      <td>105000</td>\n    </tr>\n    <tr>\n      <th>53</th>\n      <td>AsstProf</td>\n      <td>73500</td>\n    </tr>\n    <tr>\n      <th>54</th>\n      <td>AssocProf</td>\n      <td>62884</td>\n    </tr>\n    <tr>\n      <th>55</th>\n      <td>AsstProf</td>\n      <td>72500</td>\n    </tr>\n    <tr>\n      <th>56</th>\n      <td>AssocProf</td>\n      <td>77500</td>\n    </tr>\n    <tr>\n      <th>57</th>\n      <td>AsstProf</td>\n      <td>72500</td>\n    </tr>\n    <tr>\n      <th>58</th>\n      <td>Prof</td>\n      <td>144651</td>\n    </tr>\n    <tr>\n      <th>59</th>\n      <td>AssocProf</td>\n      <td>103994</td>\n    </tr>\n    <tr>\n      <th>60</th>\n      <td>AsstProf</td>\n      <td>92000</td>\n    </tr>\n    <tr>\n      <th>61</th>\n      <td>AssocProf</td>\n      <td>103750</td>\n    </tr>\n    <tr>\n      <th>62</th>\n      <td>AssocProf</td>\n      <td>109650</td>\n    </tr>\n    <tr>\n      <th>63</th>\n      <td>Prof</td>\n      <td>91000</td>\n    </tr>\n    <tr>\n      <th>64</th>\n      <td>AssocProf</td>\n      <td>73300</td>\n    </tr>\n    <tr>\n      <th>65</th>\n      <td>Prof</td>\n      <td>117555</td>\n    </tr>\n    <tr>\n      <th>66</th>\n      <td>AsstProf</td>\n      <td>63100</td>\n    </tr>\n    <tr>\n      <th>67</th>\n      <td>Prof</td>\n      <td>90450</td>\n    </tr>\n    <tr>\n      <th>68</th>\n      <td>AsstProf</td>\n      <td>77500</td>\n    </tr>\n    <tr>\n      <th>69</th>\n      <td>Prof</td>\n      <td>116450</td>\n    </tr>\n    <tr>\n      <th>70</th>\n      <td>AsstProf</td>\n      <td>78500</td>\n    </tr>\n    <tr>\n      <th>71</th>\n      <td>AssocProf</td>\n      <td>71065</td>\n    </tr>\n    <tr>\n      <th>72</th>\n      <td>Prof</td>\n      <td>161101</td>\n    </tr>\n    <tr>\n      <th>73</th>\n      <td>Prof</td>\n      <td>105450</td>\n    </tr>\n    <tr>\n      <th>74</th>\n      <td>AssocProf</td>\n      <td>104542</td>\n    </tr>\n    <tr>\n      <th>75</th>\n      <td>Prof</td>\n      <td>124312</td>\n    </tr>\n    <tr>\n      <th>76</th>\n      <td>Prof</td>\n      <td>109954</td>\n    </tr>\n    <tr>\n      <th>77</th>\n      <td>Prof</td>\n      <td>109646</td>\n    </tr>\n  </tbody>\n</table>\n<p>78 rows × 2 columns</p>\n</div>",
            "text/plain": "         rank  salary\n0        Prof  186960\n1        Prof   93000\n2        Prof  110515\n3        Prof  131205\n4        Prof  104800\n5        Prof  122400\n6   AssocProf   81285\n7        Prof  126300\n8        Prof   94350\n9        Prof   57800\n10       Prof  128250\n11       Prof  134778\n12   AsstProf   88000\n13       Prof  162200\n14       Prof  153750\n15       Prof  150480\n16   AsstProf   75044\n17   AsstProf   92000\n18       Prof  107300\n19       Prof  150500\n20   AsstProf   92000\n21       Prof  103106\n22   AsstProf   73000\n23   AsstProf   85000\n24       Prof   91100\n25       Prof   99418\n26       Prof  148750\n27       Prof  155865\n28   AsstProf   91300\n29       Prof  123683\n..        ...     ...\n48       Prof  111512\n49       Prof  122960\n50   AsstProf   97032\n51       Prof  127512\n52       Prof  105000\n53   AsstProf   73500\n54  AssocProf   62884\n55   AsstProf   72500\n56  AssocProf   77500\n57   AsstProf   72500\n58       Prof  144651\n59  AssocProf  103994\n60   AsstProf   92000\n61  AssocProf  103750\n62  AssocProf  109650\n63       Prof   91000\n64  AssocProf   73300\n65       Prof  117555\n66   AsstProf   63100\n67       Prof   90450\n68   AsstProf   77500\n69       Prof  116450\n70   AsstProf   78500\n71  AssocProf   71065\n72       Prof  161101\n73       Prof  105450\n74  AssocProf  104542\n75       Prof  124312\n76       Prof  109954\n77       Prof  109646\n\n[78 rows x 2 columns]"
          },
          "metadata": {}
        }
      ]
    },
    {
      "metadata": {},
      "cell_type": "markdown",
      "source": "If we need to select a range of rows, we can specify the range using \":\" \n"
    },
    {
      "metadata": {
        "trusted": true
      },
      "cell_type": "code",
      "source": "#Select rows by their position:\ndf[10:20]\n",
      "execution_count": 24,
      "outputs": [
        {
          "output_type": "execute_result",
          "execution_count": 24,
          "data": {
            "text/html": "<div>\n<style scoped>\n    .dataframe tbody tr th:only-of-type {\n        vertical-align: middle;\n    }\n\n    .dataframe tbody tr th {\n        vertical-align: top;\n    }\n\n    .dataframe thead th {\n        text-align: right;\n    }\n</style>\n<table border=\"1\" class=\"dataframe\">\n  <thead>\n    <tr style=\"text-align: right;\">\n      <th></th>\n      <th>rank</th>\n      <th>discipline</th>\n      <th>phd</th>\n      <th>service</th>\n      <th>sex</th>\n      <th>salary</th>\n    </tr>\n  </thead>\n  <tbody>\n    <tr>\n      <th>10</th>\n      <td>Prof</td>\n      <td>B</td>\n      <td>39</td>\n      <td>33</td>\n      <td>Male</td>\n      <td>128250</td>\n    </tr>\n    <tr>\n      <th>11</th>\n      <td>Prof</td>\n      <td>B</td>\n      <td>23</td>\n      <td>23</td>\n      <td>Male</td>\n      <td>134778</td>\n    </tr>\n    <tr>\n      <th>12</th>\n      <td>AsstProf</td>\n      <td>B</td>\n      <td>1</td>\n      <td>0</td>\n      <td>Male</td>\n      <td>88000</td>\n    </tr>\n    <tr>\n      <th>13</th>\n      <td>Prof</td>\n      <td>B</td>\n      <td>35</td>\n      <td>33</td>\n      <td>Male</td>\n      <td>162200</td>\n    </tr>\n    <tr>\n      <th>14</th>\n      <td>Prof</td>\n      <td>B</td>\n      <td>25</td>\n      <td>19</td>\n      <td>Male</td>\n      <td>153750</td>\n    </tr>\n    <tr>\n      <th>15</th>\n      <td>Prof</td>\n      <td>B</td>\n      <td>17</td>\n      <td>3</td>\n      <td>Male</td>\n      <td>150480</td>\n    </tr>\n    <tr>\n      <th>16</th>\n      <td>AsstProf</td>\n      <td>B</td>\n      <td>8</td>\n      <td>3</td>\n      <td>Male</td>\n      <td>75044</td>\n    </tr>\n    <tr>\n      <th>17</th>\n      <td>AsstProf</td>\n      <td>B</td>\n      <td>4</td>\n      <td>0</td>\n      <td>Male</td>\n      <td>92000</td>\n    </tr>\n    <tr>\n      <th>18</th>\n      <td>Prof</td>\n      <td>A</td>\n      <td>19</td>\n      <td>7</td>\n      <td>Male</td>\n      <td>107300</td>\n    </tr>\n    <tr>\n      <th>19</th>\n      <td>Prof</td>\n      <td>A</td>\n      <td>29</td>\n      <td>27</td>\n      <td>Male</td>\n      <td>150500</td>\n    </tr>\n  </tbody>\n</table>\n</div>",
            "text/plain": "        rank discipline  phd  service   sex  salary\n10      Prof          B   39       33  Male  128250\n11      Prof          B   23       23  Male  134778\n12  AsstProf          B    1        0  Male   88000\n13      Prof          B   35       33  Male  162200\n14      Prof          B   25       19  Male  153750\n15      Prof          B   17        3  Male  150480\n16  AsstProf          B    8        3  Male   75044\n17  AsstProf          B    4        0  Male   92000\n18      Prof          A   19        7  Male  107300\n19      Prof          A   29       27  Male  150500"
          },
          "metadata": {}
        }
      ]
    },
    {
      "metadata": {},
      "cell_type": "markdown",
      "source": "If we need to select a range of rows, using their labels we can use method loc:\n"
    },
    {
      "metadata": {
        "trusted": true
      },
      "cell_type": "code",
      "source": "#Select rows by their labels:\ndf_sub.loc[10:20,['rank','sex','salary']]\n",
      "execution_count": 25,
      "outputs": [
        {
          "output_type": "execute_result",
          "execution_count": 25,
          "data": {
            "text/html": "<div>\n<style scoped>\n    .dataframe tbody tr th:only-of-type {\n        vertical-align: middle;\n    }\n\n    .dataframe tbody tr th {\n        vertical-align: top;\n    }\n\n    .dataframe thead th {\n        text-align: right;\n    }\n</style>\n<table border=\"1\" class=\"dataframe\">\n  <thead>\n    <tr style=\"text-align: right;\">\n      <th></th>\n      <th>rank</th>\n      <th>sex</th>\n      <th>salary</th>\n    </tr>\n  </thead>\n  <tbody>\n    <tr>\n      <th>10</th>\n      <td>Prof</td>\n      <td>Male</td>\n      <td>128250</td>\n    </tr>\n    <tr>\n      <th>11</th>\n      <td>Prof</td>\n      <td>Male</td>\n      <td>134778</td>\n    </tr>\n    <tr>\n      <th>13</th>\n      <td>Prof</td>\n      <td>Male</td>\n      <td>162200</td>\n    </tr>\n    <tr>\n      <th>14</th>\n      <td>Prof</td>\n      <td>Male</td>\n      <td>153750</td>\n    </tr>\n    <tr>\n      <th>15</th>\n      <td>Prof</td>\n      <td>Male</td>\n      <td>150480</td>\n    </tr>\n    <tr>\n      <th>19</th>\n      <td>Prof</td>\n      <td>Male</td>\n      <td>150500</td>\n    </tr>\n  </tbody>\n</table>\n</div>",
            "text/plain": "    rank   sex  salary\n10  Prof  Male  128250\n11  Prof  Male  134778\n13  Prof  Male  162200\n14  Prof  Male  153750\n15  Prof  Male  150480\n19  Prof  Male  150500"
          },
          "metadata": {}
        }
      ]
    },
    {
      "metadata": {},
      "cell_type": "markdown",
      "source": "If we need to select a range of rows and/or columns, using their positions we can use method iloc:\n"
    },
    {
      "metadata": {
        "trusted": true
      },
      "cell_type": "code",
      "source": "#Select rows by their labels:\ndf_sub.iloc[10:20,[0, 3, 4, 5]]\n",
      "execution_count": 26,
      "outputs": [
        {
          "output_type": "execute_result",
          "execution_count": 26,
          "data": {
            "text/html": "<div>\n<style scoped>\n    .dataframe tbody tr th:only-of-type {\n        vertical-align: middle;\n    }\n\n    .dataframe tbody tr th {\n        vertical-align: top;\n    }\n\n    .dataframe thead th {\n        text-align: right;\n    }\n</style>\n<table border=\"1\" class=\"dataframe\">\n  <thead>\n    <tr style=\"text-align: right;\">\n      <th></th>\n      <th>rank</th>\n      <th>service</th>\n      <th>sex</th>\n      <th>salary</th>\n    </tr>\n  </thead>\n  <tbody>\n    <tr>\n      <th>26</th>\n      <td>Prof</td>\n      <td>19</td>\n      <td>Male</td>\n      <td>148750</td>\n    </tr>\n    <tr>\n      <th>27</th>\n      <td>Prof</td>\n      <td>43</td>\n      <td>Male</td>\n      <td>155865</td>\n    </tr>\n    <tr>\n      <th>29</th>\n      <td>Prof</td>\n      <td>20</td>\n      <td>Male</td>\n      <td>123683</td>\n    </tr>\n    <tr>\n      <th>31</th>\n      <td>Prof</td>\n      <td>21</td>\n      <td>Male</td>\n      <td>155750</td>\n    </tr>\n    <tr>\n      <th>35</th>\n      <td>Prof</td>\n      <td>23</td>\n      <td>Male</td>\n      <td>126933</td>\n    </tr>\n    <tr>\n      <th>36</th>\n      <td>Prof</td>\n      <td>45</td>\n      <td>Male</td>\n      <td>146856</td>\n    </tr>\n    <tr>\n      <th>39</th>\n      <td>Prof</td>\n      <td>18</td>\n      <td>Female</td>\n      <td>129000</td>\n    </tr>\n    <tr>\n      <th>40</th>\n      <td>Prof</td>\n      <td>36</td>\n      <td>Female</td>\n      <td>137000</td>\n    </tr>\n    <tr>\n      <th>44</th>\n      <td>Prof</td>\n      <td>19</td>\n      <td>Female</td>\n      <td>151768</td>\n    </tr>\n    <tr>\n      <th>45</th>\n      <td>Prof</td>\n      <td>25</td>\n      <td>Female</td>\n      <td>140096</td>\n    </tr>\n  </tbody>\n</table>\n</div>",
            "text/plain": "    rank  service     sex  salary\n26  Prof       19    Male  148750\n27  Prof       43    Male  155865\n29  Prof       20    Male  123683\n31  Prof       21    Male  155750\n35  Prof       23    Male  126933\n36  Prof       45    Male  146856\n39  Prof       18  Female  129000\n40  Prof       36  Female  137000\n44  Prof       19  Female  151768\n45  Prof       25  Female  140096"
          },
          "metadata": {}
        }
      ]
    },
    {
      "metadata": {
        "trusted": true
      },
      "cell_type": "code",
      "source": "df.iloc[0]  # First row of a data frame\n\ndf.iloc[-1] # Last row \n",
      "execution_count": 28,
      "outputs": [
        {
          "output_type": "execute_result",
          "execution_count": 28,
          "data": {
            "text/plain": "rank            Prof\ndiscipline         A\nphd               23\nservice           15\nsex           Female\nsalary        109646\nName: 77, dtype: object"
          },
          "metadata": {}
        }
      ]
    },
    {
      "metadata": {
        "trusted": true
      },
      "cell_type": "code",
      "source": "df.iloc[:, 0]  # First column\ndf.iloc[:, -1] # Last column \n",
      "execution_count": 29,
      "outputs": [
        {
          "output_type": "execute_result",
          "execution_count": 29,
          "data": {
            "text/plain": "0     186960\n1      93000\n2     110515\n3     131205\n4     104800\n5     122400\n6      81285\n7     126300\n8      94350\n9      57800\n10    128250\n11    134778\n12     88000\n13    162200\n14    153750\n15    150480\n16     75044\n17     92000\n18    107300\n19    150500\n20     92000\n21    103106\n22     73000\n23     85000\n24     91100\n25     99418\n26    148750\n27    155865\n28     91300\n29    123683\n       ...  \n48    111512\n49    122960\n50     97032\n51    127512\n52    105000\n53     73500\n54     62884\n55     72500\n56     77500\n57     72500\n58    144651\n59    103994\n60     92000\n61    103750\n62    109650\n63     91000\n64     73300\n65    117555\n66     63100\n67     90450\n68     77500\n69    116450\n70     78500\n71     71065\n72    161101\n73    105450\n74    104542\n75    124312\n76    109954\n77    109646\nName: salary, Length: 78, dtype: int64"
          },
          "metadata": {}
        }
      ]
    },
    {
      "metadata": {
        "trusted": true
      },
      "cell_type": "code",
      "source": "df.iloc[0:7]       #First 7 rows \ndf.iloc[:, 0:2]    #First 2 columns\ndf.iloc[1:3, 0:2]  #Second through third rows and first 2 columns\ndf.iloc[[0,5], [1,3]]  #1st and 6th rows and 2nd and 4th columns\n",
      "execution_count": 30,
      "outputs": [
        {
          "output_type": "execute_result",
          "execution_count": 30,
          "data": {
            "text/html": "<div>\n<style scoped>\n    .dataframe tbody tr th:only-of-type {\n        vertical-align: middle;\n    }\n\n    .dataframe tbody tr th {\n        vertical-align: top;\n    }\n\n    .dataframe thead th {\n        text-align: right;\n    }\n</style>\n<table border=\"1\" class=\"dataframe\">\n  <thead>\n    <tr style=\"text-align: right;\">\n      <th></th>\n      <th>discipline</th>\n      <th>service</th>\n    </tr>\n  </thead>\n  <tbody>\n    <tr>\n      <th>0</th>\n      <td>B</td>\n      <td>49</td>\n    </tr>\n    <tr>\n      <th>5</th>\n      <td>A</td>\n      <td>20</td>\n    </tr>\n  </tbody>\n</table>\n</div>",
            "text/plain": "  discipline  service\n0          B       49\n5          A       20"
          },
          "metadata": {}
        }
      ]
    },
    {
      "metadata": {},
      "cell_type": "markdown",
      "source": "### Data Frames sorting"
    },
    {
      "metadata": {
        "trusted": true
      },
      "cell_type": "code",
      "source": "# Create a new data frame from the original sorted by the column Salary\ndf_sorted = df.sort_values( by ='service')\ndf_sorted.head()\n",
      "execution_count": 33,
      "outputs": [
        {
          "output_type": "execute_result",
          "execution_count": 33,
          "data": {
            "text/html": "<div>\n<style scoped>\n    .dataframe tbody tr th:only-of-type {\n        vertical-align: middle;\n    }\n\n    .dataframe tbody tr th {\n        vertical-align: top;\n    }\n\n    .dataframe thead th {\n        text-align: right;\n    }\n</style>\n<table border=\"1\" class=\"dataframe\">\n  <thead>\n    <tr style=\"text-align: right;\">\n      <th></th>\n      <th>rank</th>\n      <th>discipline</th>\n      <th>phd</th>\n      <th>service</th>\n      <th>sex</th>\n      <th>salary</th>\n    </tr>\n  </thead>\n  <tbody>\n    <tr>\n      <th>55</th>\n      <td>AsstProf</td>\n      <td>A</td>\n      <td>2</td>\n      <td>0</td>\n      <td>Female</td>\n      <td>72500</td>\n    </tr>\n    <tr>\n      <th>23</th>\n      <td>AsstProf</td>\n      <td>A</td>\n      <td>2</td>\n      <td>0</td>\n      <td>Male</td>\n      <td>85000</td>\n    </tr>\n    <tr>\n      <th>43</th>\n      <td>AsstProf</td>\n      <td>B</td>\n      <td>5</td>\n      <td>0</td>\n      <td>Female</td>\n      <td>77000</td>\n    </tr>\n    <tr>\n      <th>17</th>\n      <td>AsstProf</td>\n      <td>B</td>\n      <td>4</td>\n      <td>0</td>\n      <td>Male</td>\n      <td>92000</td>\n    </tr>\n    <tr>\n      <th>12</th>\n      <td>AsstProf</td>\n      <td>B</td>\n      <td>1</td>\n      <td>0</td>\n      <td>Male</td>\n      <td>88000</td>\n    </tr>\n  </tbody>\n</table>\n</div>",
            "text/plain": "        rank discipline  phd  service     sex  salary\n55  AsstProf          A    2        0  Female   72500\n23  AsstProf          A    2        0    Male   85000\n43  AsstProf          B    5        0  Female   77000\n17  AsstProf          B    4        0    Male   92000\n12  AsstProf          B    1        0    Male   88000"
          },
          "metadata": {}
        }
      ]
    },
    {
      "metadata": {
        "trusted": true
      },
      "cell_type": "code",
      "source": "df_sorted = df.sort_values( by =['service', 'salary'], ascending = [True, False])\ndf_sorted.head(10)\n",
      "execution_count": 34,
      "outputs": [
        {
          "output_type": "execute_result",
          "execution_count": 34,
          "data": {
            "text/html": "<div>\n<style scoped>\n    .dataframe tbody tr th:only-of-type {\n        vertical-align: middle;\n    }\n\n    .dataframe tbody tr th {\n        vertical-align: top;\n    }\n\n    .dataframe thead th {\n        text-align: right;\n    }\n</style>\n<table border=\"1\" class=\"dataframe\">\n  <thead>\n    <tr style=\"text-align: right;\">\n      <th></th>\n      <th>rank</th>\n      <th>discipline</th>\n      <th>phd</th>\n      <th>service</th>\n      <th>sex</th>\n      <th>salary</th>\n    </tr>\n  </thead>\n  <tbody>\n    <tr>\n      <th>52</th>\n      <td>Prof</td>\n      <td>A</td>\n      <td>12</td>\n      <td>0</td>\n      <td>Female</td>\n      <td>105000</td>\n    </tr>\n    <tr>\n      <th>17</th>\n      <td>AsstProf</td>\n      <td>B</td>\n      <td>4</td>\n      <td>0</td>\n      <td>Male</td>\n      <td>92000</td>\n    </tr>\n    <tr>\n      <th>12</th>\n      <td>AsstProf</td>\n      <td>B</td>\n      <td>1</td>\n      <td>0</td>\n      <td>Male</td>\n      <td>88000</td>\n    </tr>\n    <tr>\n      <th>23</th>\n      <td>AsstProf</td>\n      <td>A</td>\n      <td>2</td>\n      <td>0</td>\n      <td>Male</td>\n      <td>85000</td>\n    </tr>\n    <tr>\n      <th>43</th>\n      <td>AsstProf</td>\n      <td>B</td>\n      <td>5</td>\n      <td>0</td>\n      <td>Female</td>\n      <td>77000</td>\n    </tr>\n    <tr>\n      <th>55</th>\n      <td>AsstProf</td>\n      <td>A</td>\n      <td>2</td>\n      <td>0</td>\n      <td>Female</td>\n      <td>72500</td>\n    </tr>\n    <tr>\n      <th>57</th>\n      <td>AsstProf</td>\n      <td>A</td>\n      <td>3</td>\n      <td>1</td>\n      <td>Female</td>\n      <td>72500</td>\n    </tr>\n    <tr>\n      <th>28</th>\n      <td>AsstProf</td>\n      <td>B</td>\n      <td>7</td>\n      <td>2</td>\n      <td>Male</td>\n      <td>91300</td>\n    </tr>\n    <tr>\n      <th>42</th>\n      <td>AsstProf</td>\n      <td>B</td>\n      <td>4</td>\n      <td>2</td>\n      <td>Female</td>\n      <td>80225</td>\n    </tr>\n    <tr>\n      <th>68</th>\n      <td>AsstProf</td>\n      <td>A</td>\n      <td>4</td>\n      <td>2</td>\n      <td>Female</td>\n      <td>77500</td>\n    </tr>\n  </tbody>\n</table>\n</div>",
            "text/plain": "        rank discipline  phd  service     sex  salary\n52      Prof          A   12        0  Female  105000\n17  AsstProf          B    4        0    Male   92000\n12  AsstProf          B    1        0    Male   88000\n23  AsstProf          A    2        0    Male   85000\n43  AsstProf          B    5        0  Female   77000\n55  AsstProf          A    2        0  Female   72500\n57  AsstProf          A    3        1  Female   72500\n28  AsstProf          B    7        2    Male   91300\n42  AsstProf          B    4        2  Female   80225\n68  AsstProf          A    4        2  Female   77500"
          },
          "metadata": {}
        }
      ]
    },
    {
      "metadata": {},
      "cell_type": "markdown",
      "source": "### Missing values"
    },
    {
      "metadata": {
        "trusted": true
      },
      "cell_type": "code",
      "source": "# Read a dataset with missing values\nflights = pd.read_csv(\"http://rcs.bu.edu/examples/python/data_analysis/flights.csv\")\n# Select the rows that have at least one missing value\nflights[flights.isnull().any(axis=1)].head()\n",
      "execution_count": 35,
      "outputs": [
        {
          "output_type": "execute_result",
          "execution_count": 35,
          "data": {
            "text/html": "<div>\n<style scoped>\n    .dataframe tbody tr th:only-of-type {\n        vertical-align: middle;\n    }\n\n    .dataframe tbody tr th {\n        vertical-align: top;\n    }\n\n    .dataframe thead th {\n        text-align: right;\n    }\n</style>\n<table border=\"1\" class=\"dataframe\">\n  <thead>\n    <tr style=\"text-align: right;\">\n      <th></th>\n      <th>year</th>\n      <th>month</th>\n      <th>day</th>\n      <th>dep_time</th>\n      <th>dep_delay</th>\n      <th>arr_time</th>\n      <th>arr_delay</th>\n      <th>carrier</th>\n      <th>tailnum</th>\n      <th>flight</th>\n      <th>origin</th>\n      <th>dest</th>\n      <th>air_time</th>\n      <th>distance</th>\n      <th>hour</th>\n      <th>minute</th>\n    </tr>\n  </thead>\n  <tbody>\n    <tr>\n      <th>330</th>\n      <td>2013</td>\n      <td>1</td>\n      <td>1</td>\n      <td>1807.0</td>\n      <td>29.0</td>\n      <td>2251.0</td>\n      <td>NaN</td>\n      <td>UA</td>\n      <td>N31412</td>\n      <td>1228</td>\n      <td>EWR</td>\n      <td>SAN</td>\n      <td>NaN</td>\n      <td>2425</td>\n      <td>18.0</td>\n      <td>7.0</td>\n    </tr>\n    <tr>\n      <th>403</th>\n      <td>2013</td>\n      <td>1</td>\n      <td>1</td>\n      <td>NaN</td>\n      <td>NaN</td>\n      <td>NaN</td>\n      <td>NaN</td>\n      <td>AA</td>\n      <td>N3EHAA</td>\n      <td>791</td>\n      <td>LGA</td>\n      <td>DFW</td>\n      <td>NaN</td>\n      <td>1389</td>\n      <td>NaN</td>\n      <td>NaN</td>\n    </tr>\n    <tr>\n      <th>404</th>\n      <td>2013</td>\n      <td>1</td>\n      <td>1</td>\n      <td>NaN</td>\n      <td>NaN</td>\n      <td>NaN</td>\n      <td>NaN</td>\n      <td>AA</td>\n      <td>N3EVAA</td>\n      <td>1925</td>\n      <td>LGA</td>\n      <td>MIA</td>\n      <td>NaN</td>\n      <td>1096</td>\n      <td>NaN</td>\n      <td>NaN</td>\n    </tr>\n    <tr>\n      <th>855</th>\n      <td>2013</td>\n      <td>1</td>\n      <td>2</td>\n      <td>2145.0</td>\n      <td>16.0</td>\n      <td>NaN</td>\n      <td>NaN</td>\n      <td>UA</td>\n      <td>N12221</td>\n      <td>1299</td>\n      <td>EWR</td>\n      <td>RSW</td>\n      <td>NaN</td>\n      <td>1068</td>\n      <td>21.0</td>\n      <td>45.0</td>\n    </tr>\n    <tr>\n      <th>858</th>\n      <td>2013</td>\n      <td>1</td>\n      <td>2</td>\n      <td>NaN</td>\n      <td>NaN</td>\n      <td>NaN</td>\n      <td>NaN</td>\n      <td>AA</td>\n      <td>NaN</td>\n      <td>133</td>\n      <td>JFK</td>\n      <td>LAX</td>\n      <td>NaN</td>\n      <td>2475</td>\n      <td>NaN</td>\n      <td>NaN</td>\n    </tr>\n  </tbody>\n</table>\n</div>",
            "text/plain": "     year  month  day  dep_time  dep_delay  arr_time  arr_delay carrier  \\\n330  2013      1    1    1807.0       29.0    2251.0        NaN      UA   \n403  2013      1    1       NaN        NaN       NaN        NaN      AA   \n404  2013      1    1       NaN        NaN       NaN        NaN      AA   \n855  2013      1    2    2145.0       16.0       NaN        NaN      UA   \n858  2013      1    2       NaN        NaN       NaN        NaN      AA   \n\n    tailnum  flight origin dest  air_time  distance  hour  minute  \n330  N31412    1228    EWR  SAN       NaN      2425  18.0     7.0  \n403  N3EHAA     791    LGA  DFW       NaN      1389   NaN     NaN  \n404  N3EVAA    1925    LGA  MIA       NaN      1096   NaN     NaN  \n855  N12221    1299    EWR  RSW       NaN      1068  21.0    45.0  \n858     NaN     133    JFK  LAX       NaN      2475   NaN     NaN  "
          },
          "metadata": {}
        }
      ]
    },
    {
      "metadata": {},
      "cell_type": "markdown",
      "source": "### Aggregation Functions in Pandas\n\nagg() method are useful when multiple statistics are computed per column:\n",
      "attachments": {}
    },
    {
      "metadata": {
        "trusted": true
      },
      "cell_type": "code",
      "source": "flights[['dep_delay','arr_delay']].agg(['min','mean','max'])\n",
      "execution_count": 36,
      "outputs": [
        {
          "output_type": "execute_result",
          "execution_count": 36,
          "data": {
            "text/html": "<div>\n<style scoped>\n    .dataframe tbody tr th:only-of-type {\n        vertical-align: middle;\n    }\n\n    .dataframe tbody tr th {\n        vertical-align: top;\n    }\n\n    .dataframe thead th {\n        text-align: right;\n    }\n</style>\n<table border=\"1\" class=\"dataframe\">\n  <thead>\n    <tr style=\"text-align: right;\">\n      <th></th>\n      <th>dep_delay</th>\n      <th>arr_delay</th>\n    </tr>\n  </thead>\n  <tbody>\n    <tr>\n      <th>min</th>\n      <td>-33.000000</td>\n      <td>-75.000000</td>\n    </tr>\n    <tr>\n      <th>mean</th>\n      <td>9.463773</td>\n      <td>2.094537</td>\n    </tr>\n    <tr>\n      <th>max</th>\n      <td>1014.000000</td>\n      <td>1007.000000</td>\n    </tr>\n  </tbody>\n</table>\n</div>",
            "text/plain": "        dep_delay    arr_delay\nmin    -33.000000   -75.000000\nmean     9.463773     2.094537\nmax   1014.000000  1007.000000"
          },
          "metadata": {}
        }
      ]
    },
    {
      "metadata": {},
      "cell_type": "markdown",
      "source": "# Explore your Data"
    },
    {
      "metadata": {},
      "cell_type": "markdown",
      "source": "Seaborn package is built on matplotlib but provides high level interface for drawing attractive statistical graphics, similar to ggplot2 library in R. It specifically targets statistical data visualization\n\nTo show graphs within Python notebook include inline directive:\n\n"
    },
    {
      "metadata": {
        "trusted": true
      },
      "cell_type": "code",
      "source": "%matplotlib inline\n",
      "execution_count": 37,
      "outputs": []
    },
    {
      "metadata": {
        "trusted": true
      },
      "cell_type": "code",
      "source": "import matplotlib.pyplot as plt",
      "execution_count": 38,
      "outputs": []
    },
    {
      "metadata": {
        "trusted": true
      },
      "cell_type": "code",
      "source": "plt.plot(df.salary)\nplt.show()",
      "execution_count": 40,
      "outputs": [
        {
          "output_type": "display_data",
          "data": {
            "image/png": "[encoded data removed]",
            "text/plain": "<Figure size 432x288 with 1 Axes>"
          },
          "metadata": {
            "needs_background": "light"
          }
        }
      ]
    },
    {
      "metadata": {
        "trusted": true
      },
      "cell_type": "code",
      "source": "plt.hist(df.salary)\nplt.show()",
      "execution_count": 42,
      "outputs": [
        {
          "output_type": "display_data",
          "data": {
            "image/png": "[encoded data removed]",
            "text/plain": "<Figure size 432x288 with 1 Axes>"
          },
          "metadata": {
            "needs_background": "light"
          }
        }
      ]
    },
    {
      "metadata": {
        "trusted": true
      },
      "cell_type": "code",
      "source": "",
      "execution_count": null,
      "outputs": []
    },
    {
      "metadata": {
        "trusted": true
      },
      "cell_type": "code",
      "source": "",
      "execution_count": null,
      "outputs": []
    },
    {
      "metadata": {
        "trusted": true
      },
      "cell_type": "code",
      "source": "",
      "execution_count": null,
      "outputs": []
    }
  ],
  "metadata": {
    "kernelspec": {
      "name": "python36",
      "display_name": "Python 3.6",
      "language": "python"
    },
    "language_info": {
      "mimetype": "text/x-python",
      "nbconvert_exporter": "python",
      "name": "python",
      "pygments_lexer": "ipython3",
      "version": "3.6.6",
      "file_extension": ".py",
      "codemirror_mode": {
        "version": 3,
        "name": "ipython"
      }
    }
  },
  "nbformat": 4,
  "nbformat_minor": 2
}